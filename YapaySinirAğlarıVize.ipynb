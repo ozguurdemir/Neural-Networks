{
  "nbformat": 4,
  "nbformat_minor": 0,
  "metadata": {
    "colab": {
      "provenance": []
    },
    "kernelspec": {
      "name": "python3",
      "display_name": "Python 3"
    },
    "language_info": {
      "name": "python"
    }
  },
  "cells": [
    {
      "cell_type": "code",
      "execution_count": null,
      "metadata": {
        "id": "IUdDp6VPm9gM"
      },
      "outputs": [],
      "source": [
        "import os\n",
        "import torch\n",
        "from torch import nn\n",
        "from torch.utils.data import DataLoader\n",
        "from torchvision import datasets, transforms\n",
        "import numpy as np"
      ]
    },
    {
      "cell_type": "code",
      "source": [
        "x=torch.tensor([[1, 2, 3], [4, 5, 6]],dtype=torch.float).reshape(-1,2)\n",
        "torch.manual_seed(190401013)\n",
        "weight = torch.randn(1, 6)\n",
        "bias = torch.randn(1, 6)"
      ],
      "metadata": {
        "id": "3kryjP7Jrr3i"
      },
      "execution_count": null,
      "outputs": []
    },
    {
      "cell_type": "code",
      "source": [
        "class Network(nn.Module):\n",
        "\n",
        "    def __init__(self):\n",
        "        super(Network, self).__init__()\n",
        "        self.hidden_layer = torch.nn.Linear(2, 50)\n",
        "        self.output_layer = torch.nn.Linear(50, 1)\n",
        "\n",
        "    def tanh_activation(self, x):\n",
        "        return (torch.exp(x) - torch.exp(-x)) / (torch.exp(x) + torch.exp(-x))\n",
        "\n",
        "    def sigmoid_activation(self, x):\n",
        "        return 1 / (1 + torch.exp(-x))\n",
        "\n",
        "    def forward(self, x):\n",
        "        hidden_output = self.tanh_activation(self.hidden_layer(x))\n",
        "        output = self.sigmoid_activation(self.output_layer(hidden_output))\n",
        "        return output\n",
        "\n",
        "    "
      ],
      "metadata": {
        "id": "ElHlkMIitv7V"
      },
      "execution_count": null,
      "outputs": []
    },
    {
      "cell_type": "code",
      "source": [
        "model = Network()\n",
        "output = model(x)\n",
        "print(output)\n"
      ],
      "metadata": {
        "colab": {
          "base_uri": "https://localhost:8080/"
        },
        "id": "6u8-c2v84rGg",
        "outputId": "d79f0f43-0e4c-4533-c7db-fa6ad5d605ba"
      },
      "execution_count": null,
      "outputs": [
        {
          "output_type": "stream",
          "name": "stdout",
          "text": [
            "tensor([[0.6076],\n",
            "        [0.5430],\n",
            "        [0.5210]], grad_fn=<MulBackward0>)\n"
          ]
        }
      ]
    },
    {
      "cell_type": "code",
      "source": [],
      "metadata": {
        "id": "BbtnSDk37MHc"
      },
      "execution_count": null,
      "outputs": []
    }
  ]
}